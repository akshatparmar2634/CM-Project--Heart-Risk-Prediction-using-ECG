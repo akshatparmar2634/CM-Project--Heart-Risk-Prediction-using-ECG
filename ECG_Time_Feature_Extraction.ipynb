{
 "cells": [
  {
   "cell_type": "code",
   "execution_count": 38,
   "metadata": {},
   "outputs": [],
   "source": [
    "import pandas as pd\n",
    "import csv\n",
    "import numpy as np\n",
    "import matplotlib.pyplot as plt\n",
    "import seaborn as sns\n",
    "import wfdb\n",
    "import random\n",
    "import neurokit2 as nk\n",
    "import tsfresh as tsf\n",
    "from tsfresh.feature_extraction import extract_features\n",
    "from tsfresh.feature_extraction.settings import from_columns"
   ]
  },
  {
   "cell_type": "code",
   "execution_count": 39,
   "metadata": {},
   "outputs": [],
   "source": [
    "dataset = pd.read_csv('patient_scp.csv')\n",
    "hrv_dataset = pd.read_csv('ECG_Cardiac_Features.csv')\n",
    "directory = 'physionet.org/files/ptb-xl/1.0.3/'"
   ]
  },
  {
   "cell_type": "code",
   "execution_count": 40,
   "metadata": {},
   "outputs": [
    {
     "name": "stdout",
     "output_type": "stream",
     "text": [
      "Corrected Settings Dictionary:\n",
      "{'value': {'quantile': [{'q': 0.9}, {'q': 0.6}, {'q': 0.4}, {'q': 0.7}, {'q': 0.1}, {'q': 0.8}], 'change_quantiles': [{'f_agg': 'var', 'isabs': True, 'qh': 0.4, 'ql': 0.2}, {'f_agg': 'var', 'isabs': False, 'qh': 0.4, 'ql': 0.2}, {'f_agg': 'mean', 'isabs': True, 'qh': 0.4, 'ql': 0.2}, {'f_agg': 'var', 'isabs': True, 'qh': 0.8, 'ql': 0.6}, {'f_agg': 'mean', 'isabs': True, 'qh': 0.4, 'ql': 0.0}, {'f_agg': 'var', 'isabs': False, 'qh': 0.8, 'ql': 0.6}, {'f_agg': 'mean', 'isabs': True, 'qh': 0.6, 'ql': 0.0}, {'f_agg': 'var', 'isabs': False, 'qh': 0.6, 'ql': 0.2}, {'f_agg': 'var', 'isabs': True, 'qh': 0.6, 'ql': 0.2}, {'f_agg': 'mean', 'isabs': True, 'qh': 0.8, 'ql': 0.6}, {'f_agg': 'var', 'isabs': True, 'qh': 0.8, 'ql': 0.4}, {'f_agg': 'mean', 'isabs': True, 'qh': 0.6, 'ql': 0.2}, {'f_agg': 'var', 'isabs': False, 'qh': 0.8, 'ql': 0.4}, {'f_agg': 'var', 'isabs': False, 'qh': 0.4, 'ql': 0.0}, {'f_agg': 'mean', 'isabs': False, 'qh': 0.4, 'ql': 0.2}, {'f_agg': 'var', 'isabs': False, 'qh': 0.6, 'ql': 0.0}, {'f_agg': 'mean', 'isabs': True, 'qh': 0.2, 'ql': 0.0}], 'benford_correlation': None, 'symmetry_looking': [{'r': 0.05}], 'ratio_beyond_r_sigma': [{'r': 3}, {'r': 0.5}, {'r': 2.5}, {'r': 1}, {'r': 1.5}, {'r': 5}], 'median': None, 'number_crossing_m': [{'m': 0}, {'m': 1}], 'range_count': [{'max': 1, 'min': -1}], 'minimum': None, 'kurtosis': None, 'binned_entropy': [{'max_bins': 10}], 'agg_autocorrelation': [{'f_agg': 'var', 'maxlag': 40}, {'f_agg': 'mean', 'maxlag': 40}, {'f_agg': 'median', 'maxlag': 40}], 'fft_coefficient': [{'attr': 'abs', 'coeff': 17}, {'attr': 'abs', 'coeff': 11}], 'lempel_ziv_complexity': [{'bins': 10}], 'partial_autocorrelation': [{'lag': 3}, {'lag': 4}], 'agg_linear_trend': [{'attr': 'stderr', 'chunk_len': 50, 'f_agg': 'min'}, {'attr': 'stderr', 'chunk_len': 50, 'f_agg': 'var'}], 'skewness': None, 'fourier_entropy': [{'bins': 3}]}}\n",
      "{'quantile': [{'q': 0.9}, {'q': 0.6}, {'q': 0.4}, {'q': 0.7}, {'q': 0.1}, {'q': 0.8}], 'change_quantiles': [{'f_agg': 'var', 'isabs': True, 'qh': 0.4, 'ql': 0.2}, {'f_agg': 'var', 'isabs': False, 'qh': 0.4, 'ql': 0.2}, {'f_agg': 'mean', 'isabs': True, 'qh': 0.4, 'ql': 0.2}, {'f_agg': 'var', 'isabs': True, 'qh': 0.8, 'ql': 0.6}, {'f_agg': 'mean', 'isabs': True, 'qh': 0.4, 'ql': 0.0}, {'f_agg': 'var', 'isabs': False, 'qh': 0.8, 'ql': 0.6}, {'f_agg': 'mean', 'isabs': True, 'qh': 0.6, 'ql': 0.0}, {'f_agg': 'var', 'isabs': False, 'qh': 0.6, 'ql': 0.2}, {'f_agg': 'var', 'isabs': True, 'qh': 0.6, 'ql': 0.2}, {'f_agg': 'mean', 'isabs': True, 'qh': 0.8, 'ql': 0.6}, {'f_agg': 'var', 'isabs': True, 'qh': 0.8, 'ql': 0.4}, {'f_agg': 'mean', 'isabs': True, 'qh': 0.6, 'ql': 0.2}, {'f_agg': 'var', 'isabs': False, 'qh': 0.8, 'ql': 0.4}, {'f_agg': 'var', 'isabs': False, 'qh': 0.4, 'ql': 0.0}, {'f_agg': 'mean', 'isabs': False, 'qh': 0.4, 'ql': 0.2}, {'f_agg': 'var', 'isabs': False, 'qh': 0.6, 'ql': 0.0}, {'f_agg': 'mean', 'isabs': True, 'qh': 0.2, 'ql': 0.0}], 'benford_correlation': None, 'symmetry_looking': [{'r': 0.05}], 'ratio_beyond_r_sigma': [{'r': 3}, {'r': 0.5}, {'r': 2.5}, {'r': 1}, {'r': 1.5}, {'r': 5}], 'median': None, 'number_crossing_m': [{'m': 0}, {'m': 1}], 'range_count': [{'max': 1, 'min': -1}], 'minimum': None, 'kurtosis': None, 'binned_entropy': [{'max_bins': 10}], 'agg_autocorrelation': [{'f_agg': 'var', 'maxlag': 40}, {'f_agg': 'mean', 'maxlag': 40}, {'f_agg': 'median', 'maxlag': 40}], 'fft_coefficient': [{'attr': 'abs', 'coeff': 17}, {'attr': 'abs', 'coeff': 11}], 'lempel_ziv_complexity': [{'bins': 10}], 'partial_autocorrelation': [{'lag': 3}, {'lag': 4}], 'agg_linear_trend': [{'attr': 'stderr', 'chunk_len': 50, 'f_agg': 'min'}, {'attr': 'stderr', 'chunk_len': 50, 'f_agg': 'var'}], 'skewness': None, 'fourier_entropy': [{'bins': 3}]}\n"
     ]
    }
   ],
   "source": [
    "selected_features = pd.read_csv('top_n_features_relevance.csv')\n",
    "selected_features = selected_features['feature'].tolist()\n",
    "\n",
    "selected_settings = from_columns(selected_features)\n",
    "\n",
    "# Print the corrected settings\n",
    "print(\"Corrected Settings Dictionary:\")\n",
    "print(selected_settings)\n",
    "\n",
    "updated_settings = selected_settings['value']\n",
    "print(updated_settings)"
   ]
  },
  {
   "cell_type": "code",
   "execution_count": null,
   "metadata": {},
   "outputs": [],
   "source": [
    "time_features = pd.DataFrame()\n",
    "\n",
    "\n",
    "for index, row in hrv_dataset.iterrows():\n",
    "    print(f\"{index}/{len(hrv_dataset)}\")\n",
    "    ecg_id = row['ecg_id']\n",
    "    record = wfdb.rdrecord(directory + dataset[dataset['ecg_id'] == ecg_id]['filename_hr'].values[0])\n",
    "    ecg_signal = record.p_signal[:,0]\n",
    "    ecg_signal = nk.ecg_clean(ecg_signal, sampling_rate=500)\n",
    "\n",
    "    ecg_df = pd.DataFrame({\n",
    "        'id': [ecg_id] * len(ecg_signal),\n",
    "        'time': range(len(ecg_signal)),\n",
    "        'value': ecg_signal\n",
    "    })\n",
    "\n",
    "    extracted_features = extract_features(\n",
    "        ecg_df,\n",
    "        column_id='id',\n",
    "        column_sort='time',\n",
    "        column_value='value',\n",
    "        n_jobs=1,\n",
    "        default_fc_parameters=updated_settings\n",
    "    )\n",
    "\n",
    "    extracted_features['ecg_id'] = ecg_id\n",
    "\n",
    "    time_features = pd.concat([time_features, extracted_features], ignore_index=True)\n",
    "\n",
    "\n",
    "    "
   ]
  },
  {
   "cell_type": "code",
   "execution_count": 42,
   "metadata": {},
   "outputs": [],
   "source": [
    "time_features.to_csv('time_features_updated_relevance.csv', index=False)"
   ]
  }
 ],
 "metadata": {
  "kernelspec": {
   "display_name": "machinelearning",
   "language": "python",
   "name": "python3"
  },
  "language_info": {
   "codemirror_mode": {
    "name": "ipython",
    "version": 3
   },
   "file_extension": ".py",
   "mimetype": "text/x-python",
   "name": "python",
   "nbconvert_exporter": "python",
   "pygments_lexer": "ipython3",
   "version": "3.12.5"
  }
 },
 "nbformat": 4,
 "nbformat_minor": 2
}
