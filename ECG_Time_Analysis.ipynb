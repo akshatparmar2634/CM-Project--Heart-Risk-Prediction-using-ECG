{
 "cells": [
  {
   "cell_type": "code",
   "execution_count": 2,
   "metadata": {},
   "outputs": [],
   "source": [
    "import pandas as pd\n",
    "import csv\n",
    "import numpy as np\n",
    "import matplotlib.pyplot as plt\n",
    "import seaborn as sns\n",
    "import wfdb\n",
    "import random\n",
    "import neurokit2 as nk\n",
    "import tsfresh as tsf\n",
    "from tsfresh.feature_extraction import ComprehensiveFCParameters\n",
    "from tsfresh.feature_extraction import extract_features"
   ]
  },
  {
   "cell_type": "code",
   "execution_count": 3,
   "metadata": {},
   "outputs": [],
   "source": [
    "dataset = pd.read_csv('patient_scp.csv')\n",
    "hrv_dataset = pd.read_csv('ECG_Cardiac_Features.csv')\n",
    "directory = 'physionet.org/files/ptb-xl/1.0.3/'"
   ]
  },
  {
   "cell_type": "code",
   "execution_count": 13,
   "metadata": {},
   "outputs": [],
   "source": [
    "time_features = pd.DataFrame()"
   ]
  },
  {
   "cell_type": "code",
   "execution_count": 14,
   "metadata": {},
   "outputs": [
    {
     "name": "stdout",
     "output_type": "stream",
     "text": [
      "{'variance_larger_than_standard_deviation': None, 'has_duplicate_max': None, 'has_duplicate_min': None, 'has_duplicate': None, 'sum_values': None, 'abs_energy': None, 'mean_abs_change': None, 'mean_change': None, 'mean_second_derivative_central': None, 'median': None, 'mean': None, 'length': None, 'standard_deviation': None, 'variation_coefficient': None, 'variance': None, 'skewness': None, 'kurtosis': None, 'root_mean_square': None, 'absolute_sum_of_changes': None, 'longest_strike_below_mean': None, 'longest_strike_above_mean': None, 'count_above_mean': None, 'count_below_mean': None, 'last_location_of_maximum': None, 'first_location_of_maximum': None, 'last_location_of_minimum': None, 'first_location_of_minimum': None, 'percentage_of_reoccurring_values_to_all_values': None, 'percentage_of_reoccurring_datapoints_to_all_datapoints': None, 'sum_of_reoccurring_values': None, 'sum_of_reoccurring_data_points': None, 'ratio_value_number_to_time_series_length': None, 'sample_entropy': None, 'maximum': None, 'absolute_maximum': None, 'minimum': None, 'benford_correlation': None, 'time_reversal_asymmetry_statistic': [{'lag': 1}, {'lag': 2}, {'lag': 3}], 'c3': [{'lag': 1}, {'lag': 2}, {'lag': 3}], 'cid_ce': [{'normalize': True}, {'normalize': False}], 'symmetry_looking': [{'r': 0.0}, {'r': 0.05}, {'r': 0.1}, {'r': 0.15000000000000002}, {'r': 0.2}, {'r': 0.25}, {'r': 0.30000000000000004}, {'r': 0.35000000000000003}, {'r': 0.4}, {'r': 0.45}, {'r': 0.5}, {'r': 0.55}, {'r': 0.6000000000000001}, {'r': 0.65}, {'r': 0.7000000000000001}, {'r': 0.75}, {'r': 0.8}, {'r': 0.8500000000000001}, {'r': 0.9}, {'r': 0.9500000000000001}], 'large_standard_deviation': [{'r': 0.05}, {'r': 0.1}, {'r': 0.15000000000000002}, {'r': 0.2}, {'r': 0.25}, {'r': 0.30000000000000004}, {'r': 0.35000000000000003}, {'r': 0.4}, {'r': 0.45}, {'r': 0.5}, {'r': 0.55}, {'r': 0.6000000000000001}, {'r': 0.65}, {'r': 0.7000000000000001}, {'r': 0.75}, {'r': 0.8}, {'r': 0.8500000000000001}, {'r': 0.9}, {'r': 0.9500000000000001}], 'quantile': [{'q': 0.1}, {'q': 0.2}, {'q': 0.3}, {'q': 0.4}, {'q': 0.6}, {'q': 0.7}, {'q': 0.8}, {'q': 0.9}], 'autocorrelation': [{'lag': 0}, {'lag': 1}, {'lag': 2}, {'lag': 3}, {'lag': 4}, {'lag': 5}, {'lag': 6}, {'lag': 7}, {'lag': 8}, {'lag': 9}], 'agg_autocorrelation': [{'f_agg': 'mean', 'maxlag': 40}, {'f_agg': 'median', 'maxlag': 40}, {'f_agg': 'var', 'maxlag': 40}], 'partial_autocorrelation': [{'lag': 0}, {'lag': 1}, {'lag': 2}, {'lag': 3}, {'lag': 4}, {'lag': 5}, {'lag': 6}, {'lag': 7}, {'lag': 8}, {'lag': 9}], 'number_cwt_peaks': [{'n': 1}, {'n': 5}], 'number_peaks': [{'n': 1}, {'n': 3}, {'n': 5}, {'n': 10}, {'n': 50}], 'binned_entropy': [{'max_bins': 10}], 'index_mass_quantile': [{'q': 0.1}, {'q': 0.2}, {'q': 0.3}, {'q': 0.4}, {'q': 0.6}, {'q': 0.7}, {'q': 0.8}, {'q': 0.9}], 'cwt_coefficients': [{'widths': (2, 5, 10, 20), 'coeff': 0, 'w': 2}, {'widths': (2, 5, 10, 20), 'coeff': 0, 'w': 5}, {'widths': (2, 5, 10, 20), 'coeff': 0, 'w': 10}, {'widths': (2, 5, 10, 20), 'coeff': 0, 'w': 20}, {'widths': (2, 5, 10, 20), 'coeff': 1, 'w': 2}, {'widths': (2, 5, 10, 20), 'coeff': 1, 'w': 5}, {'widths': (2, 5, 10, 20), 'coeff': 1, 'w': 10}, {'widths': (2, 5, 10, 20), 'coeff': 1, 'w': 20}, {'widths': (2, 5, 10, 20), 'coeff': 2, 'w': 2}, {'widths': (2, 5, 10, 20), 'coeff': 2, 'w': 5}, {'widths': (2, 5, 10, 20), 'coeff': 2, 'w': 10}, {'widths': (2, 5, 10, 20), 'coeff': 2, 'w': 20}, {'widths': (2, 5, 10, 20), 'coeff': 3, 'w': 2}, {'widths': (2, 5, 10, 20), 'coeff': 3, 'w': 5}, {'widths': (2, 5, 10, 20), 'coeff': 3, 'w': 10}, {'widths': (2, 5, 10, 20), 'coeff': 3, 'w': 20}, {'widths': (2, 5, 10, 20), 'coeff': 4, 'w': 2}, {'widths': (2, 5, 10, 20), 'coeff': 4, 'w': 5}, {'widths': (2, 5, 10, 20), 'coeff': 4, 'w': 10}, {'widths': (2, 5, 10, 20), 'coeff': 4, 'w': 20}, {'widths': (2, 5, 10, 20), 'coeff': 5, 'w': 2}, {'widths': (2, 5, 10, 20), 'coeff': 5, 'w': 5}, {'widths': (2, 5, 10, 20), 'coeff': 5, 'w': 10}, {'widths': (2, 5, 10, 20), 'coeff': 5, 'w': 20}, {'widths': (2, 5, 10, 20), 'coeff': 6, 'w': 2}, {'widths': (2, 5, 10, 20), 'coeff': 6, 'w': 5}, {'widths': (2, 5, 10, 20), 'coeff': 6, 'w': 10}, {'widths': (2, 5, 10, 20), 'coeff': 6, 'w': 20}, {'widths': (2, 5, 10, 20), 'coeff': 7, 'w': 2}, {'widths': (2, 5, 10, 20), 'coeff': 7, 'w': 5}, {'widths': (2, 5, 10, 20), 'coeff': 7, 'w': 10}, {'widths': (2, 5, 10, 20), 'coeff': 7, 'w': 20}, {'widths': (2, 5, 10, 20), 'coeff': 8, 'w': 2}, {'widths': (2, 5, 10, 20), 'coeff': 8, 'w': 5}, {'widths': (2, 5, 10, 20), 'coeff': 8, 'w': 10}, {'widths': (2, 5, 10, 20), 'coeff': 8, 'w': 20}, {'widths': (2, 5, 10, 20), 'coeff': 9, 'w': 2}, {'widths': (2, 5, 10, 20), 'coeff': 9, 'w': 5}, {'widths': (2, 5, 10, 20), 'coeff': 9, 'w': 10}, {'widths': (2, 5, 10, 20), 'coeff': 9, 'w': 20}, {'widths': (2, 5, 10, 20), 'coeff': 10, 'w': 2}, {'widths': (2, 5, 10, 20), 'coeff': 10, 'w': 5}, {'widths': (2, 5, 10, 20), 'coeff': 10, 'w': 10}, {'widths': (2, 5, 10, 20), 'coeff': 10, 'w': 20}, {'widths': (2, 5, 10, 20), 'coeff': 11, 'w': 2}, {'widths': (2, 5, 10, 20), 'coeff': 11, 'w': 5}, {'widths': (2, 5, 10, 20), 'coeff': 11, 'w': 10}, {'widths': (2, 5, 10, 20), 'coeff': 11, 'w': 20}, {'widths': (2, 5, 10, 20), 'coeff': 12, 'w': 2}, {'widths': (2, 5, 10, 20), 'coeff': 12, 'w': 5}, {'widths': (2, 5, 10, 20), 'coeff': 12, 'w': 10}, {'widths': (2, 5, 10, 20), 'coeff': 12, 'w': 20}, {'widths': (2, 5, 10, 20), 'coeff': 13, 'w': 2}, {'widths': (2, 5, 10, 20), 'coeff': 13, 'w': 5}, {'widths': (2, 5, 10, 20), 'coeff': 13, 'w': 10}, {'widths': (2, 5, 10, 20), 'coeff': 13, 'w': 20}, {'widths': (2, 5, 10, 20), 'coeff': 14, 'w': 2}, {'widths': (2, 5, 10, 20), 'coeff': 14, 'w': 5}, {'widths': (2, 5, 10, 20), 'coeff': 14, 'w': 10}, {'widths': (2, 5, 10, 20), 'coeff': 14, 'w': 20}], 'spkt_welch_density': [{'coeff': 2}, {'coeff': 5}, {'coeff': 8}], 'ar_coefficient': [{'coeff': 0, 'k': 10}, {'coeff': 1, 'k': 10}, {'coeff': 2, 'k': 10}, {'coeff': 3, 'k': 10}, {'coeff': 4, 'k': 10}, {'coeff': 5, 'k': 10}, {'coeff': 6, 'k': 10}, {'coeff': 7, 'k': 10}, {'coeff': 8, 'k': 10}, {'coeff': 9, 'k': 10}, {'coeff': 10, 'k': 10}], 'change_quantiles': [{'ql': 0.0, 'qh': 0.2, 'isabs': False, 'f_agg': 'mean'}, {'ql': 0.0, 'qh': 0.2, 'isabs': False, 'f_agg': 'var'}, {'ql': 0.0, 'qh': 0.2, 'isabs': True, 'f_agg': 'mean'}, {'ql': 0.0, 'qh': 0.2, 'isabs': True, 'f_agg': 'var'}, {'ql': 0.0, 'qh': 0.4, 'isabs': False, 'f_agg': 'mean'}, {'ql': 0.0, 'qh': 0.4, 'isabs': False, 'f_agg': 'var'}, {'ql': 0.0, 'qh': 0.4, 'isabs': True, 'f_agg': 'mean'}, {'ql': 0.0, 'qh': 0.4, 'isabs': True, 'f_agg': 'var'}, {'ql': 0.0, 'qh': 0.6, 'isabs': False, 'f_agg': 'mean'}, {'ql': 0.0, 'qh': 0.6, 'isabs': False, 'f_agg': 'var'}, {'ql': 0.0, 'qh': 0.6, 'isabs': True, 'f_agg': 'mean'}, {'ql': 0.0, 'qh': 0.6, 'isabs': True, 'f_agg': 'var'}, {'ql': 0.0, 'qh': 0.8, 'isabs': False, 'f_agg': 'mean'}, {'ql': 0.0, 'qh': 0.8, 'isabs': False, 'f_agg': 'var'}, {'ql': 0.0, 'qh': 0.8, 'isabs': True, 'f_agg': 'mean'}, {'ql': 0.0, 'qh': 0.8, 'isabs': True, 'f_agg': 'var'}, {'ql': 0.0, 'qh': 1.0, 'isabs': False, 'f_agg': 'mean'}, {'ql': 0.0, 'qh': 1.0, 'isabs': False, 'f_agg': 'var'}, {'ql': 0.0, 'qh': 1.0, 'isabs': True, 'f_agg': 'mean'}, {'ql': 0.0, 'qh': 1.0, 'isabs': True, 'f_agg': 'var'}, {'ql': 0.2, 'qh': 0.4, 'isabs': False, 'f_agg': 'mean'}, {'ql': 0.2, 'qh': 0.4, 'isabs': False, 'f_agg': 'var'}, {'ql': 0.2, 'qh': 0.4, 'isabs': True, 'f_agg': 'mean'}, {'ql': 0.2, 'qh': 0.4, 'isabs': True, 'f_agg': 'var'}, {'ql': 0.2, 'qh': 0.6, 'isabs': False, 'f_agg': 'mean'}, {'ql': 0.2, 'qh': 0.6, 'isabs': False, 'f_agg': 'var'}, {'ql': 0.2, 'qh': 0.6, 'isabs': True, 'f_agg': 'mean'}, {'ql': 0.2, 'qh': 0.6, 'isabs': True, 'f_agg': 'var'}, {'ql': 0.2, 'qh': 0.8, 'isabs': False, 'f_agg': 'mean'}, {'ql': 0.2, 'qh': 0.8, 'isabs': False, 'f_agg': 'var'}, {'ql': 0.2, 'qh': 0.8, 'isabs': True, 'f_agg': 'mean'}, {'ql': 0.2, 'qh': 0.8, 'isabs': True, 'f_agg': 'var'}, {'ql': 0.2, 'qh': 1.0, 'isabs': False, 'f_agg': 'mean'}, {'ql': 0.2, 'qh': 1.0, 'isabs': False, 'f_agg': 'var'}, {'ql': 0.2, 'qh': 1.0, 'isabs': True, 'f_agg': 'mean'}, {'ql': 0.2, 'qh': 1.0, 'isabs': True, 'f_agg': 'var'}, {'ql': 0.4, 'qh': 0.6, 'isabs': False, 'f_agg': 'mean'}, {'ql': 0.4, 'qh': 0.6, 'isabs': False, 'f_agg': 'var'}, {'ql': 0.4, 'qh': 0.6, 'isabs': True, 'f_agg': 'mean'}, {'ql': 0.4, 'qh': 0.6, 'isabs': True, 'f_agg': 'var'}, {'ql': 0.4, 'qh': 0.8, 'isabs': False, 'f_agg': 'mean'}, {'ql': 0.4, 'qh': 0.8, 'isabs': False, 'f_agg': 'var'}, {'ql': 0.4, 'qh': 0.8, 'isabs': True, 'f_agg': 'mean'}, {'ql': 0.4, 'qh': 0.8, 'isabs': True, 'f_agg': 'var'}, {'ql': 0.4, 'qh': 1.0, 'isabs': False, 'f_agg': 'mean'}, {'ql': 0.4, 'qh': 1.0, 'isabs': False, 'f_agg': 'var'}, {'ql': 0.4, 'qh': 1.0, 'isabs': True, 'f_agg': 'mean'}, {'ql': 0.4, 'qh': 1.0, 'isabs': True, 'f_agg': 'var'}, {'ql': 0.6, 'qh': 0.8, 'isabs': False, 'f_agg': 'mean'}, {'ql': 0.6, 'qh': 0.8, 'isabs': False, 'f_agg': 'var'}, {'ql': 0.6, 'qh': 0.8, 'isabs': True, 'f_agg': 'mean'}, {'ql': 0.6, 'qh': 0.8, 'isabs': True, 'f_agg': 'var'}, {'ql': 0.6, 'qh': 1.0, 'isabs': False, 'f_agg': 'mean'}, {'ql': 0.6, 'qh': 1.0, 'isabs': False, 'f_agg': 'var'}, {'ql': 0.6, 'qh': 1.0, 'isabs': True, 'f_agg': 'mean'}, {'ql': 0.6, 'qh': 1.0, 'isabs': True, 'f_agg': 'var'}, {'ql': 0.8, 'qh': 1.0, 'isabs': False, 'f_agg': 'mean'}, {'ql': 0.8, 'qh': 1.0, 'isabs': False, 'f_agg': 'var'}, {'ql': 0.8, 'qh': 1.0, 'isabs': True, 'f_agg': 'mean'}, {'ql': 0.8, 'qh': 1.0, 'isabs': True, 'f_agg': 'var'}], 'fft_coefficient': [{'coeff': 0, 'attr': 'real'}, {'coeff': 1, 'attr': 'real'}, {'coeff': 2, 'attr': 'real'}, {'coeff': 3, 'attr': 'real'}, {'coeff': 4, 'attr': 'real'}, {'coeff': 5, 'attr': 'real'}, {'coeff': 6, 'attr': 'real'}, {'coeff': 7, 'attr': 'real'}, {'coeff': 8, 'attr': 'real'}, {'coeff': 9, 'attr': 'real'}, {'coeff': 10, 'attr': 'real'}, {'coeff': 11, 'attr': 'real'}, {'coeff': 12, 'attr': 'real'}, {'coeff': 13, 'attr': 'real'}, {'coeff': 14, 'attr': 'real'}, {'coeff': 15, 'attr': 'real'}, {'coeff': 16, 'attr': 'real'}, {'coeff': 17, 'attr': 'real'}, {'coeff': 18, 'attr': 'real'}, {'coeff': 19, 'attr': 'real'}, {'coeff': 20, 'attr': 'real'}, {'coeff': 21, 'attr': 'real'}, {'coeff': 22, 'attr': 'real'}, {'coeff': 23, 'attr': 'real'}, {'coeff': 24, 'attr': 'real'}, {'coeff': 25, 'attr': 'real'}, {'coeff': 26, 'attr': 'real'}, {'coeff': 27, 'attr': 'real'}, {'coeff': 28, 'attr': 'real'}, {'coeff': 29, 'attr': 'real'}, {'coeff': 30, 'attr': 'real'}, {'coeff': 31, 'attr': 'real'}, {'coeff': 32, 'attr': 'real'}, {'coeff': 33, 'attr': 'real'}, {'coeff': 34, 'attr': 'real'}, {'coeff': 35, 'attr': 'real'}, {'coeff': 36, 'attr': 'real'}, {'coeff': 37, 'attr': 'real'}, {'coeff': 38, 'attr': 'real'}, {'coeff': 39, 'attr': 'real'}, {'coeff': 40, 'attr': 'real'}, {'coeff': 41, 'attr': 'real'}, {'coeff': 42, 'attr': 'real'}, {'coeff': 43, 'attr': 'real'}, {'coeff': 44, 'attr': 'real'}, {'coeff': 45, 'attr': 'real'}, {'coeff': 46, 'attr': 'real'}, {'coeff': 47, 'attr': 'real'}, {'coeff': 48, 'attr': 'real'}, {'coeff': 49, 'attr': 'real'}, {'coeff': 50, 'attr': 'real'}, {'coeff': 51, 'attr': 'real'}, {'coeff': 52, 'attr': 'real'}, {'coeff': 53, 'attr': 'real'}, {'coeff': 54, 'attr': 'real'}, {'coeff': 55, 'attr': 'real'}, {'coeff': 56, 'attr': 'real'}, {'coeff': 57, 'attr': 'real'}, {'coeff': 58, 'attr': 'real'}, {'coeff': 59, 'attr': 'real'}, {'coeff': 60, 'attr': 'real'}, {'coeff': 61, 'attr': 'real'}, {'coeff': 62, 'attr': 'real'}, {'coeff': 63, 'attr': 'real'}, {'coeff': 64, 'attr': 'real'}, {'coeff': 65, 'attr': 'real'}, {'coeff': 66, 'attr': 'real'}, {'coeff': 67, 'attr': 'real'}, {'coeff': 68, 'attr': 'real'}, {'coeff': 69, 'attr': 'real'}, {'coeff': 70, 'attr': 'real'}, {'coeff': 71, 'attr': 'real'}, {'coeff': 72, 'attr': 'real'}, {'coeff': 73, 'attr': 'real'}, {'coeff': 74, 'attr': 'real'}, {'coeff': 75, 'attr': 'real'}, {'coeff': 76, 'attr': 'real'}, {'coeff': 77, 'attr': 'real'}, {'coeff': 78, 'attr': 'real'}, {'coeff': 79, 'attr': 'real'}, {'coeff': 80, 'attr': 'real'}, {'coeff': 81, 'attr': 'real'}, {'coeff': 82, 'attr': 'real'}, {'coeff': 83, 'attr': 'real'}, {'coeff': 84, 'attr': 'real'}, {'coeff': 85, 'attr': 'real'}, {'coeff': 86, 'attr': 'real'}, {'coeff': 87, 'attr': 'real'}, {'coeff': 88, 'attr': 'real'}, {'coeff': 89, 'attr': 'real'}, {'coeff': 90, 'attr': 'real'}, {'coeff': 91, 'attr': 'real'}, {'coeff': 92, 'attr': 'real'}, {'coeff': 93, 'attr': 'real'}, {'coeff': 94, 'attr': 'real'}, {'coeff': 95, 'attr': 'real'}, {'coeff': 96, 'attr': 'real'}, {'coeff': 97, 'attr': 'real'}, {'coeff': 98, 'attr': 'real'}, {'coeff': 99, 'attr': 'real'}, {'coeff': 0, 'attr': 'imag'}, {'coeff': 1, 'attr': 'imag'}, {'coeff': 2, 'attr': 'imag'}, {'coeff': 3, 'attr': 'imag'}, {'coeff': 4, 'attr': 'imag'}, {'coeff': 5, 'attr': 'imag'}, {'coeff': 6, 'attr': 'imag'}, {'coeff': 7, 'attr': 'imag'}, {'coeff': 8, 'attr': 'imag'}, {'coeff': 9, 'attr': 'imag'}, {'coeff': 10, 'attr': 'imag'}, {'coeff': 11, 'attr': 'imag'}, {'coeff': 12, 'attr': 'imag'}, {'coeff': 13, 'attr': 'imag'}, {'coeff': 14, 'attr': 'imag'}, {'coeff': 15, 'attr': 'imag'}, {'coeff': 16, 'attr': 'imag'}, {'coeff': 17, 'attr': 'imag'}, {'coeff': 18, 'attr': 'imag'}, {'coeff': 19, 'attr': 'imag'}, {'coeff': 20, 'attr': 'imag'}, {'coeff': 21, 'attr': 'imag'}, {'coeff': 22, 'attr': 'imag'}, {'coeff': 23, 'attr': 'imag'}, {'coeff': 24, 'attr': 'imag'}, {'coeff': 25, 'attr': 'imag'}, {'coeff': 26, 'attr': 'imag'}, {'coeff': 27, 'attr': 'imag'}, {'coeff': 28, 'attr': 'imag'}, {'coeff': 29, 'attr': 'imag'}, {'coeff': 30, 'attr': 'imag'}, {'coeff': 31, 'attr': 'imag'}, {'coeff': 32, 'attr': 'imag'}, {'coeff': 33, 'attr': 'imag'}, {'coeff': 34, 'attr': 'imag'}, {'coeff': 35, 'attr': 'imag'}, {'coeff': 36, 'attr': 'imag'}, {'coeff': 37, 'attr': 'imag'}, {'coeff': 38, 'attr': 'imag'}, {'coeff': 39, 'attr': 'imag'}, {'coeff': 40, 'attr': 'imag'}, {'coeff': 41, 'attr': 'imag'}, {'coeff': 42, 'attr': 'imag'}, {'coeff': 43, 'attr': 'imag'}, {'coeff': 44, 'attr': 'imag'}, {'coeff': 45, 'attr': 'imag'}, {'coeff': 46, 'attr': 'imag'}, {'coeff': 47, 'attr': 'imag'}, {'coeff': 48, 'attr': 'imag'}, {'coeff': 49, 'attr': 'imag'}, {'coeff': 50, 'attr': 'imag'}, {'coeff': 51, 'attr': 'imag'}, {'coeff': 52, 'attr': 'imag'}, {'coeff': 53, 'attr': 'imag'}, {'coeff': 54, 'attr': 'imag'}, {'coeff': 55, 'attr': 'imag'}, {'coeff': 56, 'attr': 'imag'}, {'coeff': 57, 'attr': 'imag'}, {'coeff': 58, 'attr': 'imag'}, {'coeff': 59, 'attr': 'imag'}, {'coeff': 60, 'attr': 'imag'}, {'coeff': 61, 'attr': 'imag'}, {'coeff': 62, 'attr': 'imag'}, {'coeff': 63, 'attr': 'imag'}, {'coeff': 64, 'attr': 'imag'}, {'coeff': 65, 'attr': 'imag'}, {'coeff': 66, 'attr': 'imag'}, {'coeff': 67, 'attr': 'imag'}, {'coeff': 68, 'attr': 'imag'}, {'coeff': 69, 'attr': 'imag'}, {'coeff': 70, 'attr': 'imag'}, {'coeff': 71, 'attr': 'imag'}, {'coeff': 72, 'attr': 'imag'}, {'coeff': 73, 'attr': 'imag'}, {'coeff': 74, 'attr': 'imag'}, {'coeff': 75, 'attr': 'imag'}, {'coeff': 76, 'attr': 'imag'}, {'coeff': 77, 'attr': 'imag'}, {'coeff': 78, 'attr': 'imag'}, {'coeff': 79, 'attr': 'imag'}, {'coeff': 80, 'attr': 'imag'}, {'coeff': 81, 'attr': 'imag'}, {'coeff': 82, 'attr': 'imag'}, {'coeff': 83, 'attr': 'imag'}, {'coeff': 84, 'attr': 'imag'}, {'coeff': 85, 'attr': 'imag'}, {'coeff': 86, 'attr': 'imag'}, {'coeff': 87, 'attr': 'imag'}, {'coeff': 88, 'attr': 'imag'}, {'coeff': 89, 'attr': 'imag'}, {'coeff': 90, 'attr': 'imag'}, {'coeff': 91, 'attr': 'imag'}, {'coeff': 92, 'attr': 'imag'}, {'coeff': 93, 'attr': 'imag'}, {'coeff': 94, 'attr': 'imag'}, {'coeff': 95, 'attr': 'imag'}, {'coeff': 96, 'attr': 'imag'}, {'coeff': 97, 'attr': 'imag'}, {'coeff': 98, 'attr': 'imag'}, {'coeff': 99, 'attr': 'imag'}, {'coeff': 0, 'attr': 'abs'}, {'coeff': 1, 'attr': 'abs'}, {'coeff': 2, 'attr': 'abs'}, {'coeff': 3, 'attr': 'abs'}, {'coeff': 4, 'attr': 'abs'}, {'coeff': 5, 'attr': 'abs'}, {'coeff': 6, 'attr': 'abs'}, {'coeff': 7, 'attr': 'abs'}, {'coeff': 8, 'attr': 'abs'}, {'coeff': 9, 'attr': 'abs'}, {'coeff': 10, 'attr': 'abs'}, {'coeff': 11, 'attr': 'abs'}, {'coeff': 12, 'attr': 'abs'}, {'coeff': 13, 'attr': 'abs'}, {'coeff': 14, 'attr': 'abs'}, {'coeff': 15, 'attr': 'abs'}, {'coeff': 16, 'attr': 'abs'}, {'coeff': 17, 'attr': 'abs'}, {'coeff': 18, 'attr': 'abs'}, {'coeff': 19, 'attr': 'abs'}, {'coeff': 20, 'attr': 'abs'}, {'coeff': 21, 'attr': 'abs'}, {'coeff': 22, 'attr': 'abs'}, {'coeff': 23, 'attr': 'abs'}, {'coeff': 24, 'attr': 'abs'}, {'coeff': 25, 'attr': 'abs'}, {'coeff': 26, 'attr': 'abs'}, {'coeff': 27, 'attr': 'abs'}, {'coeff': 28, 'attr': 'abs'}, {'coeff': 29, 'attr': 'abs'}, {'coeff': 30, 'attr': 'abs'}, {'coeff': 31, 'attr': 'abs'}, {'coeff': 32, 'attr': 'abs'}, {'coeff': 33, 'attr': 'abs'}, {'coeff': 34, 'attr': 'abs'}, {'coeff': 35, 'attr': 'abs'}, {'coeff': 36, 'attr': 'abs'}, {'coeff': 37, 'attr': 'abs'}, {'coeff': 38, 'attr': 'abs'}, {'coeff': 39, 'attr': 'abs'}, {'coeff': 40, 'attr': 'abs'}, {'coeff': 41, 'attr': 'abs'}, {'coeff': 42, 'attr': 'abs'}, {'coeff': 43, 'attr': 'abs'}, {'coeff': 44, 'attr': 'abs'}, {'coeff': 45, 'attr': 'abs'}, {'coeff': 46, 'attr': 'abs'}, {'coeff': 47, 'attr': 'abs'}, {'coeff': 48, 'attr': 'abs'}, {'coeff': 49, 'attr': 'abs'}, {'coeff': 50, 'attr': 'abs'}, {'coeff': 51, 'attr': 'abs'}, {'coeff': 52, 'attr': 'abs'}, {'coeff': 53, 'attr': 'abs'}, {'coeff': 54, 'attr': 'abs'}, {'coeff': 55, 'attr': 'abs'}, {'coeff': 56, 'attr': 'abs'}, {'coeff': 57, 'attr': 'abs'}, {'coeff': 58, 'attr': 'abs'}, {'coeff': 59, 'attr': 'abs'}, {'coeff': 60, 'attr': 'abs'}, {'coeff': 61, 'attr': 'abs'}, {'coeff': 62, 'attr': 'abs'}, {'coeff': 63, 'attr': 'abs'}, {'coeff': 64, 'attr': 'abs'}, {'coeff': 65, 'attr': 'abs'}, {'coeff': 66, 'attr': 'abs'}, {'coeff': 67, 'attr': 'abs'}, {'coeff': 68, 'attr': 'abs'}, {'coeff': 69, 'attr': 'abs'}, {'coeff': 70, 'attr': 'abs'}, {'coeff': 71, 'attr': 'abs'}, {'coeff': 72, 'attr': 'abs'}, {'coeff': 73, 'attr': 'abs'}, {'coeff': 74, 'attr': 'abs'}, {'coeff': 75, 'attr': 'abs'}, {'coeff': 76, 'attr': 'abs'}, {'coeff': 77, 'attr': 'abs'}, {'coeff': 78, 'attr': 'abs'}, {'coeff': 79, 'attr': 'abs'}, {'coeff': 80, 'attr': 'abs'}, {'coeff': 81, 'attr': 'abs'}, {'coeff': 82, 'attr': 'abs'}, {'coeff': 83, 'attr': 'abs'}, {'coeff': 84, 'attr': 'abs'}, {'coeff': 85, 'attr': 'abs'}, {'coeff': 86, 'attr': 'abs'}, {'coeff': 87, 'attr': 'abs'}, {'coeff': 88, 'attr': 'abs'}, {'coeff': 89, 'attr': 'abs'}, {'coeff': 90, 'attr': 'abs'}, {'coeff': 91, 'attr': 'abs'}, {'coeff': 92, 'attr': 'abs'}, {'coeff': 93, 'attr': 'abs'}, {'coeff': 94, 'attr': 'abs'}, {'coeff': 95, 'attr': 'abs'}, {'coeff': 96, 'attr': 'abs'}, {'coeff': 97, 'attr': 'abs'}, {'coeff': 98, 'attr': 'abs'}, {'coeff': 99, 'attr': 'abs'}, {'coeff': 0, 'attr': 'angle'}, {'coeff': 1, 'attr': 'angle'}, {'coeff': 2, 'attr': 'angle'}, {'coeff': 3, 'attr': 'angle'}, {'coeff': 4, 'attr': 'angle'}, {'coeff': 5, 'attr': 'angle'}, {'coeff': 6, 'attr': 'angle'}, {'coeff': 7, 'attr': 'angle'}, {'coeff': 8, 'attr': 'angle'}, {'coeff': 9, 'attr': 'angle'}, {'coeff': 10, 'attr': 'angle'}, {'coeff': 11, 'attr': 'angle'}, {'coeff': 12, 'attr': 'angle'}, {'coeff': 13, 'attr': 'angle'}, {'coeff': 14, 'attr': 'angle'}, {'coeff': 15, 'attr': 'angle'}, {'coeff': 16, 'attr': 'angle'}, {'coeff': 17, 'attr': 'angle'}, {'coeff': 18, 'attr': 'angle'}, {'coeff': 19, 'attr': 'angle'}, {'coeff': 20, 'attr': 'angle'}, {'coeff': 21, 'attr': 'angle'}, {'coeff': 22, 'attr': 'angle'}, {'coeff': 23, 'attr': 'angle'}, {'coeff': 24, 'attr': 'angle'}, {'coeff': 25, 'attr': 'angle'}, {'coeff': 26, 'attr': 'angle'}, {'coeff': 27, 'attr': 'angle'}, {'coeff': 28, 'attr': 'angle'}, {'coeff': 29, 'attr': 'angle'}, {'coeff': 30, 'attr': 'angle'}, {'coeff': 31, 'attr': 'angle'}, {'coeff': 32, 'attr': 'angle'}, {'coeff': 33, 'attr': 'angle'}, {'coeff': 34, 'attr': 'angle'}, {'coeff': 35, 'attr': 'angle'}, {'coeff': 36, 'attr': 'angle'}, {'coeff': 37, 'attr': 'angle'}, {'coeff': 38, 'attr': 'angle'}, {'coeff': 39, 'attr': 'angle'}, {'coeff': 40, 'attr': 'angle'}, {'coeff': 41, 'attr': 'angle'}, {'coeff': 42, 'attr': 'angle'}, {'coeff': 43, 'attr': 'angle'}, {'coeff': 44, 'attr': 'angle'}, {'coeff': 45, 'attr': 'angle'}, {'coeff': 46, 'attr': 'angle'}, {'coeff': 47, 'attr': 'angle'}, {'coeff': 48, 'attr': 'angle'}, {'coeff': 49, 'attr': 'angle'}, {'coeff': 50, 'attr': 'angle'}, {'coeff': 51, 'attr': 'angle'}, {'coeff': 52, 'attr': 'angle'}, {'coeff': 53, 'attr': 'angle'}, {'coeff': 54, 'attr': 'angle'}, {'coeff': 55, 'attr': 'angle'}, {'coeff': 56, 'attr': 'angle'}, {'coeff': 57, 'attr': 'angle'}, {'coeff': 58, 'attr': 'angle'}, {'coeff': 59, 'attr': 'angle'}, {'coeff': 60, 'attr': 'angle'}, {'coeff': 61, 'attr': 'angle'}, {'coeff': 62, 'attr': 'angle'}, {'coeff': 63, 'attr': 'angle'}, {'coeff': 64, 'attr': 'angle'}, {'coeff': 65, 'attr': 'angle'}, {'coeff': 66, 'attr': 'angle'}, {'coeff': 67, 'attr': 'angle'}, {'coeff': 68, 'attr': 'angle'}, {'coeff': 69, 'attr': 'angle'}, {'coeff': 70, 'attr': 'angle'}, {'coeff': 71, 'attr': 'angle'}, {'coeff': 72, 'attr': 'angle'}, {'coeff': 73, 'attr': 'angle'}, {'coeff': 74, 'attr': 'angle'}, {'coeff': 75, 'attr': 'angle'}, {'coeff': 76, 'attr': 'angle'}, {'coeff': 77, 'attr': 'angle'}, {'coeff': 78, 'attr': 'angle'}, {'coeff': 79, 'attr': 'angle'}, {'coeff': 80, 'attr': 'angle'}, {'coeff': 81, 'attr': 'angle'}, {'coeff': 82, 'attr': 'angle'}, {'coeff': 83, 'attr': 'angle'}, {'coeff': 84, 'attr': 'angle'}, {'coeff': 85, 'attr': 'angle'}, {'coeff': 86, 'attr': 'angle'}, {'coeff': 87, 'attr': 'angle'}, {'coeff': 88, 'attr': 'angle'}, {'coeff': 89, 'attr': 'angle'}, {'coeff': 90, 'attr': 'angle'}, {'coeff': 91, 'attr': 'angle'}, {'coeff': 92, 'attr': 'angle'}, {'coeff': 93, 'attr': 'angle'}, {'coeff': 94, 'attr': 'angle'}, {'coeff': 95, 'attr': 'angle'}, {'coeff': 96, 'attr': 'angle'}, {'coeff': 97, 'attr': 'angle'}, {'coeff': 98, 'attr': 'angle'}, {'coeff': 99, 'attr': 'angle'}], 'fft_aggregated': [{'aggtype': 'centroid'}, {'aggtype': 'variance'}, {'aggtype': 'skew'}, {'aggtype': 'kurtosis'}], 'value_count': [{'value': 0}, {'value': 1}, {'value': -1}], 'range_count': [{'min': -1, 'max': 1}, {'min': -1000000000000.0, 'max': 0}, {'min': 0, 'max': 1000000000000.0}], 'approximate_entropy': [{'m': 2, 'r': 0.1}, {'m': 2, 'r': 0.3}, {'m': 2, 'r': 0.5}, {'m': 2, 'r': 0.7}, {'m': 2, 'r': 0.9}], 'friedrich_coefficients': [{'coeff': 0, 'm': 3, 'r': 30}, {'coeff': 1, 'm': 3, 'r': 30}, {'coeff': 2, 'm': 3, 'r': 30}, {'coeff': 3, 'm': 3, 'r': 30}], 'max_langevin_fixed_point': [{'m': 3, 'r': 30}], 'linear_trend': [{'attr': 'pvalue'}, {'attr': 'rvalue'}, {'attr': 'intercept'}, {'attr': 'slope'}, {'attr': 'stderr'}], 'agg_linear_trend': [{'attr': 'rvalue', 'chunk_len': 5, 'f_agg': 'max'}, {'attr': 'rvalue', 'chunk_len': 5, 'f_agg': 'min'}, {'attr': 'rvalue', 'chunk_len': 5, 'f_agg': 'mean'}, {'attr': 'rvalue', 'chunk_len': 5, 'f_agg': 'var'}, {'attr': 'rvalue', 'chunk_len': 10, 'f_agg': 'max'}, {'attr': 'rvalue', 'chunk_len': 10, 'f_agg': 'min'}, {'attr': 'rvalue', 'chunk_len': 10, 'f_agg': 'mean'}, {'attr': 'rvalue', 'chunk_len': 10, 'f_agg': 'var'}, {'attr': 'rvalue', 'chunk_len': 50, 'f_agg': 'max'}, {'attr': 'rvalue', 'chunk_len': 50, 'f_agg': 'min'}, {'attr': 'rvalue', 'chunk_len': 50, 'f_agg': 'mean'}, {'attr': 'rvalue', 'chunk_len': 50, 'f_agg': 'var'}, {'attr': 'intercept', 'chunk_len': 5, 'f_agg': 'max'}, {'attr': 'intercept', 'chunk_len': 5, 'f_agg': 'min'}, {'attr': 'intercept', 'chunk_len': 5, 'f_agg': 'mean'}, {'attr': 'intercept', 'chunk_len': 5, 'f_agg': 'var'}, {'attr': 'intercept', 'chunk_len': 10, 'f_agg': 'max'}, {'attr': 'intercept', 'chunk_len': 10, 'f_agg': 'min'}, {'attr': 'intercept', 'chunk_len': 10, 'f_agg': 'mean'}, {'attr': 'intercept', 'chunk_len': 10, 'f_agg': 'var'}, {'attr': 'intercept', 'chunk_len': 50, 'f_agg': 'max'}, {'attr': 'intercept', 'chunk_len': 50, 'f_agg': 'min'}, {'attr': 'intercept', 'chunk_len': 50, 'f_agg': 'mean'}, {'attr': 'intercept', 'chunk_len': 50, 'f_agg': 'var'}, {'attr': 'slope', 'chunk_len': 5, 'f_agg': 'max'}, {'attr': 'slope', 'chunk_len': 5, 'f_agg': 'min'}, {'attr': 'slope', 'chunk_len': 5, 'f_agg': 'mean'}, {'attr': 'slope', 'chunk_len': 5, 'f_agg': 'var'}, {'attr': 'slope', 'chunk_len': 10, 'f_agg': 'max'}, {'attr': 'slope', 'chunk_len': 10, 'f_agg': 'min'}, {'attr': 'slope', 'chunk_len': 10, 'f_agg': 'mean'}, {'attr': 'slope', 'chunk_len': 10, 'f_agg': 'var'}, {'attr': 'slope', 'chunk_len': 50, 'f_agg': 'max'}, {'attr': 'slope', 'chunk_len': 50, 'f_agg': 'min'}, {'attr': 'slope', 'chunk_len': 50, 'f_agg': 'mean'}, {'attr': 'slope', 'chunk_len': 50, 'f_agg': 'var'}, {'attr': 'stderr', 'chunk_len': 5, 'f_agg': 'max'}, {'attr': 'stderr', 'chunk_len': 5, 'f_agg': 'min'}, {'attr': 'stderr', 'chunk_len': 5, 'f_agg': 'mean'}, {'attr': 'stderr', 'chunk_len': 5, 'f_agg': 'var'}, {'attr': 'stderr', 'chunk_len': 10, 'f_agg': 'max'}, {'attr': 'stderr', 'chunk_len': 10, 'f_agg': 'min'}, {'attr': 'stderr', 'chunk_len': 10, 'f_agg': 'mean'}, {'attr': 'stderr', 'chunk_len': 10, 'f_agg': 'var'}, {'attr': 'stderr', 'chunk_len': 50, 'f_agg': 'max'}, {'attr': 'stderr', 'chunk_len': 50, 'f_agg': 'min'}, {'attr': 'stderr', 'chunk_len': 50, 'f_agg': 'mean'}, {'attr': 'stderr', 'chunk_len': 50, 'f_agg': 'var'}], 'augmented_dickey_fuller': [{'attr': 'teststat'}, {'attr': 'pvalue'}, {'attr': 'usedlag'}], 'number_crossing_m': [{'m': 0}, {'m': -1}, {'m': 1}], 'energy_ratio_by_chunks': [{'num_segments': 10, 'segment_focus': 0}, {'num_segments': 10, 'segment_focus': 1}, {'num_segments': 10, 'segment_focus': 2}, {'num_segments': 10, 'segment_focus': 3}, {'num_segments': 10, 'segment_focus': 4}, {'num_segments': 10, 'segment_focus': 5}, {'num_segments': 10, 'segment_focus': 6}, {'num_segments': 10, 'segment_focus': 7}, {'num_segments': 10, 'segment_focus': 8}, {'num_segments': 10, 'segment_focus': 9}], 'ratio_beyond_r_sigma': [{'r': 0.5}, {'r': 1}, {'r': 1.5}, {'r': 2}, {'r': 2.5}, {'r': 3}, {'r': 5}, {'r': 6}, {'r': 7}, {'r': 10}], 'linear_trend_timewise': [{'attr': 'pvalue'}, {'attr': 'rvalue'}, {'attr': 'intercept'}, {'attr': 'slope'}, {'attr': 'stderr'}], 'count_above': [{'t': 0}], 'count_below': [{'t': 0}], 'lempel_ziv_complexity': [{'bins': 2}, {'bins': 3}, {'bins': 5}, {'bins': 10}, {'bins': 100}], 'fourier_entropy': [{'bins': 2}, {'bins': 3}, {'bins': 5}, {'bins': 10}, {'bins': 100}], 'permutation_entropy': [{'tau': 1, 'dimension': 3}, {'tau': 1, 'dimension': 4}, {'tau': 1, 'dimension': 5}, {'tau': 1, 'dimension': 6}, {'tau': 1, 'dimension': 7}], 'query_similarity_count': [{'query': None, 'threshold': 0.0}], 'mean_n_absolute_max': [{'number_of_maxima': 7}]}\n",
      "75\n"
     ]
    }
   ],
   "source": [
    "settings = ComprehensiveFCParameters()\n",
    "print(settings)\n",
    "print(len(settings))"
   ]
  },
  {
   "cell_type": "code",
   "execution_count": null,
   "metadata": {},
   "outputs": [],
   "source": [
    "print(settings)\n",
    "features = 20\n",
    "for index, row in hrv_dataset.iterrows():\n",
    "    print(f\"{index}/{len(hrv_dataset)}\")\n",
    "    ecg_id = row['ecg_id']\n",
    "    record = wfdb.rdrecord(directory + dataset[dataset['ecg_id'] == ecg_id]['filename_hr'].values[0])\n",
    "    ecg_signal = record.p_signal[:,0]\n",
    "    ecg_signal = nk.ecg_clean(ecg_signal, sampling_rate=500)\n",
    "\n",
    "    ecg_df = pd.DataFrame({\n",
    "        'id': [ecg_id] * len(ecg_signal),\n",
    "        'time': range(len(ecg_signal)),\n",
    "        'value': ecg_signal\n",
    "    })\n",
    "\n",
    "    extracted_features = extract_features(\n",
    "        ecg_df,\n",
    "        column_id='id',\n",
    "        column_sort='time',\n",
    "        column_value='value',\n",
    "        n_jobs=1,\n",
    "        default_fc_parameters=settings\n",
    "    )\n",
    "\n",
    "    extracted_features['ecg_id'] = ecg_id\n",
    "    print(extracted_features)\n",
    "    print(extracted_features.shape)\n",
    "    time_features = pd.concat([time_features, extracted_features], ignore_index=True)\n",
    "\n",
    "\n",
    "    "
   ]
  },
  {
   "cell_type": "code",
   "execution_count": null,
   "metadata": {},
   "outputs": [],
   "source": [
    "time_features.to_csv('time_features.csv', index=False)"
   ]
  },
  {
   "cell_type": "code",
   "execution_count": 4,
   "metadata": {},
   "outputs": [],
   "source": [
    "from tsfresh.feature_selection.relevance import calculate_relevance_table\n",
    "\n",
    "time_features = pd.read_csv('time_features.csv')\n",
    "y = pd.read_csv('patient_scp.csv')\n",
    "y = y[['ecg_id', 'label']]\n",
    "\n",
    "time_features = time_features.merge(y, on='ecg_id')\n",
    "time_features.head()\n",
    "\n",
    "X = time_features.drop(columns=['ecg_id', 'label'])  # Feature columns\n",
    "y = time_features['label']  # Target column\n",
    "\n",
    "X=X.drop(columns=X.columns[X.isna().any()])\n",
    "\n",
    "relevance_table = calculate_relevance_table(X, y, ml_task='auto')\n",
    "\n",
    "sorted_table = relevance_table.sort_values(by='p_value')\n",
    "top_n_features = sorted_table.head(100)\n",
    "with open('top_n_features_relevance.csv', 'w') as f:\n",
    "    f.write(top_n_features.to_csv(index=False))\n",
    "\n"
   ]
  },
  {
   "cell_type": "code",
   "execution_count": null,
   "metadata": {},
   "outputs": [
    {
     "name": "stdout",
     "output_type": "stream",
     "text": [
      "Index(['value__abs_energy', 'value__median', 'value__standard_deviation',\n",
      "       'value__variance', 'value__kurtosis', 'value__root_mean_square',\n",
      "       'value__maximum', 'value__absolute_maximum', 'value__minimum',\n",
      "       'value__benford_correlation', 'value__c3__lag_1', 'value__c3__lag_2',\n",
      "       'value__c3__lag_3', 'value__symmetry_looking__r_0.05',\n",
      "       'value__quantile__q_0.1', 'value__quantile__q_0.6',\n",
      "       'value__quantile__q_0.9', 'value__partial_autocorrelation__lag_2',\n",
      "       'value__binned_entropy__max_bins_10',\n",
      "       'value__spkt_welch_density__coeff_2',\n",
      "       'value__spkt_welch_density__coeff_5',\n",
      "       'value__change_quantiles__f_agg_\"mean\"__isabs_True__qh_0.2__ql_0.0',\n",
      "       'value__change_quantiles__f_agg_\"mean\"__isabs_True__qh_0.4__ql_0.0',\n",
      "       'value__change_quantiles__f_agg_\"mean\"__isabs_True__qh_0.6__ql_0.0',\n",
      "       'value__change_quantiles__f_agg_\"var\"__isabs_False__qh_0.4__ql_0.2',\n",
      "       'value__change_quantiles__f_agg_\"mean\"__isabs_True__qh_0.4__ql_0.2',\n",
      "       'value__change_quantiles__f_agg_\"var\"__isabs_True__qh_0.4__ql_0.2',\n",
      "       'value__change_quantiles__f_agg_\"var\"__isabs_False__qh_0.6__ql_0.2',\n",
      "       'value__change_quantiles__f_agg_\"mean\"__isabs_True__qh_0.6__ql_0.2',\n",
      "       'value__change_quantiles__f_agg_\"var\"__isabs_True__qh_0.6__ql_0.2',\n",
      "       'value__change_quantiles__f_agg_\"var\"__isabs_False__qh_1.0__ql_0.8',\n",
      "       'value__linear_trend__attr_\"stderr\"',\n",
      "       'value__agg_linear_trend__attr_\"intercept\"__chunk_len_50__f_agg_\"var\"',\n",
      "       'value__agg_linear_trend__attr_\"stderr\"__chunk_len_5__f_agg_\"max\"',\n",
      "       'value__agg_linear_trend__attr_\"stderr\"__chunk_len_5__f_agg_\"min\"',\n",
      "       'value__agg_linear_trend__attr_\"stderr\"__chunk_len_5__f_agg_\"mean\"',\n",
      "       'value__agg_linear_trend__attr_\"stderr\"__chunk_len_10__f_agg_\"max\"',\n",
      "       'value__agg_linear_trend__attr_\"stderr\"__chunk_len_10__f_agg_\"min\"',\n",
      "       'value__agg_linear_trend__attr_\"stderr\"__chunk_len_10__f_agg_\"mean\"',\n",
      "       'value__agg_linear_trend__attr_\"stderr\"__chunk_len_50__f_agg_\"max\"',\n",
      "       'value__agg_linear_trend__attr_\"stderr\"__chunk_len_50__f_agg_\"min\"',\n",
      "       'value__agg_linear_trend__attr_\"stderr\"__chunk_len_50__f_agg_\"mean\"',\n",
      "       'value__agg_linear_trend__attr_\"stderr\"__chunk_len_50__f_agg_\"var\"',\n",
      "       'value__number_crossing_m__m_0', 'value__ratio_beyond_r_sigma__r_0.5',\n",
      "       'value__ratio_beyond_r_sigma__r_1',\n",
      "       'value__ratio_beyond_r_sigma__r_1.5',\n",
      "       'value__ratio_beyond_r_sigma__r_3', 'value__fourier_entropy__bins_100',\n",
      "       'value__mean_n_absolute_max__number_of_maxima_7'],\n",
      "      dtype='object')\n"
     ]
    },
    {
     "name": "stderr",
     "output_type": "stream",
     "text": [
      "/Users/noeltiju/miniforge3/envs/machinelearning/lib/python3.12/site-packages/sklearn/feature_selection/_univariate_selection.py:112: UserWarning: Features [  0   1   2   3  11  27  28  29  30  31  44  46  47  48  49  50  51  52\n",
      "  53  54  55  56  57  58  59  60  61  62  63  64  68  69  70  71  72  73\n",
      "  74  75  76  77  78  79  80  81  82  91 104 364 668 669 670 757] are constant.\n",
      "  warnings.warn(\"Features %s are constant.\" % constant_features_idx, UserWarning)\n",
      "/Users/noeltiju/miniforge3/envs/machinelearning/lib/python3.12/site-packages/sklearn/feature_selection/_univariate_selection.py:113: RuntimeWarning: invalid value encountered in divide\n",
      "  f = msb / msw\n"
     ]
    }
   ],
   "source": [
    "from sklearn.feature_selection import SelectKBest, f_classif\n",
    "import pandas as pd\n",
    "\n",
    "# Load the time features and target data\n",
    "time_features = pd.read_csv('time_features.csv')\n",
    "y = pd.read_csv('patient_scp.csv')\n",
    "y = y[['ecg_id', 'label']]\n",
    "\n",
    "# Merge features with labels\n",
    "time_features = time_features.merge(y, on='ecg_id')\n",
    "\n",
    "# Separate features and target\n",
    "X = time_features.drop(columns=['ecg_id', 'label'])  # Feature columns\n",
    "y = time_features['label']  # Target column\n",
    "\n",
    "# Drop features with NaN values\n",
    "X = X.drop(columns=X.columns[X.isna().any()])\n",
    "\n",
    "# Use SelectKBest to select the top 50 features\n",
    "selector = SelectKBest(score_func=f_classif, k=50)  # Use ANOVA F-value for scoring\n",
    "X_selected = selector.fit_transform(X, y)\n",
    "\n",
    "# Get the selected feature names\n",
    "selected_feature_indices = selector.get_support(indices=True)\n",
    "selected_feature_names = X.columns[selected_feature_indices]\n",
    "print(selected_feature_names)\n",
    "\n",
    "with open('top_n_features_selectkbest.txt', 'w') as f:\n",
    "    for i in selected_feature_names:\n",
    "        f.write(i + '\\n')\n"
   ]
  }
 ],
 "metadata": {
  "kernelspec": {
   "display_name": "machinelearning",
   "language": "python",
   "name": "python3"
  },
  "language_info": {
   "codemirror_mode": {
    "name": "ipython",
    "version": 3
   },
   "file_extension": ".py",
   "mimetype": "text/x-python",
   "name": "python",
   "nbconvert_exporter": "python",
   "pygments_lexer": "ipython3",
   "version": "3.12.5"
  }
 },
 "nbformat": 4,
 "nbformat_minor": 2
}
